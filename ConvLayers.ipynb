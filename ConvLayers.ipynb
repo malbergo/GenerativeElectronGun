{
 "cells": [
  {
   "cell_type": "code",
   "execution_count": 5,
   "metadata": {},
   "outputs": [],
   "source": [
    "import matplotlib.pyplot as plt\n",
    "import numpy as np\n",
    "%matplotlib inline"
   ]
  },
  {
   "cell_type": "code",
   "execution_count": 572,
   "metadata": {},
   "outputs": [],
   "source": [
    "#Hout[k_, s_, p_, Hin_] := Floor[((Hin + 2 * p - (k - 1) - 1) / s) + 1]\n",
    "    \n",
    "def Hout(k,s,p,Hin):\n",
    "    Hout = np.floor(((Hin + 2*p - (k-1) -1)/s) + 1 )\n",
    "    return Hout\n",
    "\n",
    "def HoutT(k,s,p,Hin):\n",
    "    HoutT = np.floor((Hin -1)*s - 2*p + k)\n",
    "    return HoutT\n",
    "\n",
    "\n",
    "def convolution_info(k,s,p,dim = 32, ignore_remainder = True):\n",
    "    Hin = dim\n",
    "    Hout = np.floor(((Hin + 2*p - (k-1) -1)/s) + 1 )\n",
    "    x_list = []\n",
    "    y_list = []\n",
    "    \n",
    "    if (dim + 2*p - k) % s == 0:\n",
    "        ignore_remainder = True\n",
    "    \n",
    "    for i in range((dim + 2*p)/s ):\n",
    "        for j in range((dim + 2*p)/s ):\n",
    "            sx = i*s\n",
    "            sy = j*s\n",
    "            #print sx\n",
    "            if ((sx+k) > (dim + 2*p)):\n",
    "                if ignore_remainder == True or (s ==1):\n",
    "                    break\n",
    "                #print sx\n",
    "                new_lim = (sx + k) - (dim + 2*p)\n",
    "                for x in range(sx, sx + new_lim):\n",
    "                    for y in range(sy, sy + k ):\n",
    "                        x_list.append(int(x))\n",
    "                        y_list.append(int(y))\n",
    "                    \n",
    "            elif ((sy + k) > (dim + 2*p)):\n",
    "                if ignore_remainder == True or (s == 1):\n",
    "                    break\n",
    "                new_lim = (sy + k ) - (dim + 2*p)\n",
    "                for x in range(sx, sx + k):\n",
    "                    for y in range(sy, sy + new_lim ):\n",
    "                        x_list.append(int(x))\n",
    "                        y_list.append(int(y))    \n",
    "            else:\n",
    "                for x in range (sx, sx+k):\n",
    "                    for y in range(sy,sy+k):\n",
    "                        x_list.append(int(x))\n",
    "                        y_list.append(int(y))\n",
    "    \n",
    "    xedges, yedges = np.linspace(0, dim + 2*p, dim + 2*p + 1), np.linspace(0,dim + 2*p ,dim + 2*p + 1)\n",
    "    hist, xedges,yedges = np.histogram2d(x_list,y_list, bins = (xedges,yedges))\n",
    "    im = plt.imshow(hist, vmin=0)\n",
    "    plt.colorbar()\n",
    "    plt.show()\n",
    "    print \"Output height and width:\", Hout\n",
    "    return int(Hout)\n",
    "                    \n",
    "    # for(i=0;i<15;++i) {for (j=0;j<15;++j) {  sx=i*2 ; sy=j*2;   for(x=sx; x<sx+5; ++x) {  for(y=sy;y<sy+5;++y){   print x,y}   }   }}  }"
   ]
  },
  {
   "cell_type": "code",
   "execution_count": 604,
   "metadata": {},
   "outputs": [
    {
     "data": {
      "image/png": "[encoded data removed]",
      "text/plain": [
       "<Figure size 432x288 with 2 Axes>"
      ]
     },
     "metadata": {},
     "output_type": "display_data"
    },
    {
     "name": "stdout",
     "output_type": "stream",
     "text": [
      "Output height and width: 16.0\n"
     ]
    },
    {
     "data": {
      "image/png": "[encoded data removed]",
      "text/plain": [
       "<Figure size 432x288 with 2 Axes>"
      ]
     },
     "metadata": {},
     "output_type": "display_data"
    },
    {
     "name": "stdout",
     "output_type": "stream",
     "text": [
      "Output height and width: 8.0\n"
     ]
    },
    {
     "data": {
      "image/png": "[encoded data removed]",
      "text/plain": [
       "<Figure size 432x288 with 2 Axes>"
      ]
     },
     "metadata": {},
     "output_type": "display_data"
    },
    {
     "name": "stdout",
     "output_type": "stream",
     "text": [
      "Output height and width: 4.0\n"
     ]
    },
    {
     "data": {
      "image/png": "[encoded data removed]",
      "text/plain": [
       "<Figure size 432x288 with 2 Axes>"
      ]
     },
     "metadata": {},
     "output_type": "display_data"
    },
    {
     "name": "stdout",
     "output_type": "stream",
     "text": [
      "Output height and width: 2.0\n"
     ]
    }
   ],
   "source": [
    "Hout1 = convolution_info(4,2,1,dim=32, ignore_remainder=False)\n",
    "Hout2 = convolution_info(4,2,1,dim=Hout1, ignore_remainder=False)\n",
    "Hout3 = convolution_info(4,2,1,dim=Hout2, ignore_remainder=False)\n",
    "Hout4 = convolution_info(4,2,1,dim=Hout3, ignore_remainder=False)\n",
    "#Hout5 = convolution_info(4,1,0,dim=Hout4, ignore_remainder=True)"
   ]
  },
  {
   "cell_type": "code",
   "execution_count": 614,
   "metadata": {},
   "outputs": [
    {
     "name": "stdout",
     "output_type": "stream",
     "text": [
      "6.0\n",
      "14.0\n",
      "30.0\n",
      "32.0\n"
     ]
    }
   ],
   "source": [
    "H1 = HoutT(4,2,0,2)\n",
    "print H1\n",
    "H2 = HoutT(4,2,0,H1)\n",
    "print H2\n",
    "H3 = HoutT(4,2,0,H2)\n",
    "print H3\n",
    "H4 = HoutT(3,1,0,H3)\n",
    "print H4"
   ]
  },
  {
   "cell_type": "code",
   "execution_count": 616,
   "metadata": {},
   "outputs": [
    {
     "data": {
      "text/plain": [
       "32768"
      ]
     },
     "execution_count": 616,
     "metadata": {},
     "output_type": "execute_result"
    }
   ],
   "source": []
  },
  {
   "cell_type": "code",
   "execution_count": null,
   "metadata": {},
   "outputs": [],
   "source": []
  }
 ],
 "metadata": {
  "kernelspec": {
   "display_name": "Python (New Pytorch)",
   "language": "python",
   "name": "pytorch04"
  },
  "language_info": {
   "codemirror_mode": {
    "name": "ipython",
    "version": 2
   },
   "file_extension": ".py",
   "mimetype": "text/x-python",
   "name": "python",
   "nbconvert_exporter": "python",
   "pygments_lexer": "ipython2",
   "version": "2.7.14"
  }
 },
 "nbformat": 4,
 "nbformat_minor": 2
}
