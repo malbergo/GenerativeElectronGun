{
 "cells": [
  {
   "cell_type": "code",
   "execution_count": 1,
   "metadata": {},
   "outputs": [
    {
     "name": "stdout",
     "output_type": "stream",
     "text": [
      "0.4.0a0+200fb22\n"
     ]
    }
   ],
   "source": [
    "%load_ext autoreload\n",
    "% autoreload 2\n",
    "import os\n",
    "import numpy as np\n",
    "import seaborn as sns\n",
    "import matplotlib.pyplot as plt\n",
    "plt.rc('font', family='serif')\n",
    "\n",
    "\n",
    "import torch\n",
    "import torch.nn as nn\n",
    "import torch.nn.functional as F\n",
    "import torch.optim as optim\n",
    "from torchvision import datasets, transforms\n",
    "#from torch.autograd import Variable\n",
    "import torch.nn.parallel\n",
    "import torch.backends.cudnn as cudnn\n",
    "import torch.optim as optim\n",
    "import torch.utils.data\n",
    "import torchvision.datasets as dset\n",
    "import torchvision.transforms as transforms\n",
    "import torchvision.utils as vutils\n",
    "from geant_dataloader import rtnpy_load_data\n",
    "from logistics import *\n",
    "import random\n",
    "import datetime\n",
    "import os\n",
    "\n",
    "# plotting params\n",
    "%matplotlib inline\n",
    "plt.rcParams['font.size'] = 10\n",
    "plt.rcParams['axes.labelsize'] = 10\n",
    "plt.rcParams['axes.titlesize'] = 10\n",
    "plt.rcParams['xtick.labelsize'] = 8\n",
    "plt.rcParams['ytick.labelsize'] = 8\n",
    "plt.rcParams['legend.fontsize'] = 10\n",
    "plt.rcParams['figure.titlesize'] = 12\n",
    "plt.rcParams['figure.figsize'] = (8.0, 8.0)\n",
    "print(torch.__version__)"
   ]
  },
  {
   "cell_type": "code",
   "execution_count": 2,
   "metadata": {},
   "outputs": [],
   "source": [
    "#currently only performs on 32 x 32 image size\n",
    "\n",
    "\n",
    "\n",
    "torch.manual_seed(423312)\n",
    "imageSize = 32\n",
    "batchSize = 32\n",
    "manualSeed = 25\n",
    "ngpu = 1\n",
    "mydir=None # will be updated before the run\n",
    "norm_scale = 'unif'\n",
    "epoch=0 #will be updated during the run\n",
    "num_epochs = 30\n",
    "nc =1\n",
    "ndf = 64\n",
    "ngf = 64\n",
    "nz = 6"
   ]
  },
  {
   "cell_type": "code",
   "execution_count": 3,
   "metadata": {},
   "outputs": [
    {
     "name": "stdout",
     "output_type": "stream",
     "text": [
      "('Random Seed: ', 25)\n",
      "Using Cuda\n",
      "cuda:1\n",
      "('Using:', 'gpu', 0L)\n"
     ]
    }
   ],
   "source": [
    "if manualSeed is None:\n",
    "    manualSeed = random.randint(1, 10000)\n",
    "print(\"Random Seed: \", manualSeed)\n",
    "random.seed(manualSeed)\n",
    "torch.manual_seed(manualSeed)\n",
    "\n",
    "cudnn.benchmark = True\n",
    "dev_type = 'cpu'\n",
    "if torch.cuda.is_available():\n",
    "    print(\"Using Cuda\")\n",
    "    dev_type = 'gpu'\n",
    "    \n",
    "    \n",
    "device = torch.device(\"cuda:1\" if torch.cuda.is_available() else \"cpu\")\n",
    "print(device)\n",
    "print(\"Using:\", dev_type, torch.cuda.current_device())\n",
    "\n",
    "\n",
    "def weights_init(m):\n",
    "    classname = m.__class__.__name__\n",
    "    if classname.find('Conv') != -1:\n",
    "        m.weight.data.normal_(0.0, 0.02)\n",
    "    elif classname.find('BatchNorm') != -1:\n",
    "        m.weight.data.normal_(1.0, 0.02)\n",
    "        m.bias.data.fill_(0)\n",
    "        "
   ]
  },
  {
   "cell_type": "code",
   "execution_count": 36,
   "metadata": {},
   "outputs": [],
   "source": [
    "#image_array = rtnpy_load_data(\"/home/chris/G4Builds/Geant4HadronCalorimeter/numpy_data/rebinnedGeant4Data_20000Events_64OldSize_32NewSize.npy\", num_events = 100, image_size = imageSize)\n",
    "image_array1 = rtnpy_load_data(\"numpy_data/rebinnedGeant4Data_15000Events_64OldSize_32NewSize.npz\", image_size = imageSize)\n",
    "image_array2 = rtnpy_load_data(\"numpy_data/geant4Data_30000Events_32ImageSize_800MeV_ScintiAbsoThickness75_8.npz\", image_size = imageSize)\n",
    "image_array=np.concatenate((image_array1, image_array2),0)\n",
    "\n",
    "np.savez_compressed(\"numpy_data/rebinnedGeant4Data_15000Events_64OldSize_32NewSize.npz\", array = image_array1)"
   ]
  },
  {
   "cell_type": "code",
   "execution_count": 5,
   "metadata": {},
   "outputs": [
    {
     "name": "stdout",
     "output_type": "stream",
     "text": [
      "(44992, 1, 32, 32)\n"
     ]
    }
   ],
   "source": [
    "\n",
    "print image_array.shape\n"
   ]
  },
  {
   "cell_type": "code",
   "execution_count": 6,
   "metadata": {},
   "outputs": [
    {
     "name": "stdout",
     "output_type": "stream",
     "text": [
      "<torch.utils.data.dataloader.DataLoader object at 0x7fb9ff6d6450>\n"
     ]
    }
   ],
   "source": [
    "#print norm_scale\n",
    "normed_array, scale = normalize(image_array, norm_scale = norm_scale )\n",
    "\n",
    "tensor_array_train = torch.stack([torch.Tensor(i) for i in normed_array[:30000]])\n",
    "tensor_data_train = torch.utils.data.TensorDataset(tensor_array_train)\n",
    "tensor_array_test = torch.stack([torch.Tensor(i) for i in normed_array[30000:]])\n",
    "tensor_data_test = torch.utils.data.TensorDataset(tensor_array_test)\n",
    "\n",
    "train_loader = torch.utils.data.DataLoader(tensor_data_train, batch_size=batchSize, num_workers=8)\n",
    "test_loader = torch.utils.data.DataLoader(tensor_data_test, batch_size = batchSize, num_workers = 8)\n",
    "print(train_loader)"
   ]
  },
  {
   "cell_type": "code",
   "execution_count": 12,
   "metadata": {},
   "outputs": [],
   "source": [
    "def to_img(x, norm_scale = norm_scale, scale = scale):\n",
    "    x = x.cpu().data.numpy()\n",
    "    #x = 0.5 * (x + 1)\n",
    "   # print x\n",
    "   # x = np.clip(x, 0, 1)\n",
    "    \n",
    "    # this just drops the channel axis\n",
    "    x = x.reshape([-1, 32, 32])\n",
    "\n",
    "    x = unnormalize(x, scale = scale, norm_scale = norm_scale)\n",
    "    #print x.max()\n",
    "    \n",
    "    return x\n",
    "\n",
    "def plot_reconstructions(model, save_dir=None, epoch = epoch, n_events = num_epochs, latent_dim = nz, conv=True, simple=False, n=4, norm_scale = norm_scale, batchSize = batchSize, scale = scale):\n",
    "    \"\"\"\n",
    "    Plot 10 reconstructions from the test set. The top row is the original\n",
    "    digits, the bottom is the decoder reconstruction.\n",
    "    \"\"\"\n",
    "    # encode then decode\n",
    "    data= next(iter(test_loader))\n",
    " \n",
    "    if not conv:\n",
    "        data = data.view([-1, 4096])\n",
    "\n",
    "    true_imgs = data[0]\n",
    "    encoded_imgs = model.encoder(data[0].to(device))\n",
    "    if simple:\n",
    "        encoded_imgs = F.relu(encoded_imgs)\n",
    "  \n",
    "    decoded_imgs = model.decoder(encoded_imgs)\n",
    "\n",
    "    true_imgs = to_img(true_imgs, norm_scale = norm_scale,  scale = scale)\n",
    "    decoded_imgs = to_img(decoded_imgs, norm_scale = norm_scale, scale = scale)\n",
    "    print(decoded_imgs.shape)\n",
    "    \n",
    "    rowsize = n * 2.5\n",
    "    columnsize = 4\n",
    "    fig, axn = plt.subplots(figsize=(rowsize, columnsize))\n",
    "    cmap = sns.cubehelix_palette(dark = 0.4, light=0.98, gamma = 2.5, hue = 1, start =0, as_cmap=True)\n",
    "    for i in range(n):\n",
    "        # display original\n",
    "        ax = plt.subplot(2, n, i + 1)\n",
    "        #print(true_imgs[i].max())\n",
    "        if i == 0:\n",
    "            im = plt.imshow(true_imgs[i], cmap=cmap)\n",
    "        else: \n",
    "            plt.imshow(true_imgs[i], cmap=cmap)\n",
    "        #if i == 0:\n",
    "        #    ax.set_ylabel(\"Real\")\n",
    "        #plt.gray()\n",
    "        ax.get_xaxis().set_visible(False)\n",
    "        ax.set_yticklabels([])\n",
    "        ax.yaxis.set_ticks_position('none') \n",
    "        if i == 0:\n",
    "            ax.set_ylabel(\"Real\", rotation  = 0, fontsize = 13)\n",
    "            ax.yaxis.set_label_coords(-.25,0.5)\n",
    "\n",
    "        # display reconstruction\n",
    "        ax = plt.subplot(2, n, i + 1 + n)\n",
    "        plt.imshow(decoded_imgs[i], cmap=cmap)\n",
    "        print(decoded_imgs[i].min(), decoded_imgs[i][0].max())\n",
    "        if i == 0:\n",
    "            ax.set_ylabel(\"Decoded\", rotation  = 0, fontsize = 13)\n",
    "            ax.yaxis.set_label_coords(-.3,0.5)\n",
    "        #plt.gray()\n",
    "        ax.get_xaxis().set_visible(False)\n",
    "        ax.set_yticklabels([])\n",
    "        ax.yaxis.set_ticks_position('none') \n",
    "        \n",
    "\n",
    "    plt.tight_layout()\n",
    "\n",
    "    cbar_ax = fig.add_axes([0.97, 0.15, 0.02, 0.7])\n",
    "    cbar = fig.colorbar(im, cax=cbar_ax)\n",
    "    cbar.set_label(r'Pixel $E_{dep}$ (MeV)', y=0.85)\n",
    "    fig.subplots_adjust(wspace=-0.185, hspace=0.09)\n",
    "    fig.suptitle(r\"DCVAE Real and Decoded Samples of $e^{-}$ $E_{dep}$, \"+ str(latent_dim) + \" Latent Dim \", x=0.52, y = 1.02)\n",
    "          \n",
    "    if save_dir != None:\n",
    "        #learning_rate = '%.0E' % Decimal(lr)\n",
    "      \n",
    "        filename = \"DCVAE_EdepFor\" + str(n_events) + \"Events_\" + str(latent_dim) +\"latentDim_\"+ str(imageSize) + \"x\" +str(imageSize) \\\n",
    "                            + \"Image_Epoch\" + str(epoch) + \"_\" + norm_scale + \"Normalized_\" + str(batchSize) + \"batchSize\"\n",
    "        #print(save_dir)\n",
    "        plt.savefig(save_dir + filename, bbox_inches='tight')\n",
    "    plt.show()\n",
    "    \n",
    "    return"
   ]
  },
  {
   "cell_type": "code",
   "execution_count": 28,
   "metadata": {},
   "outputs": [],
   "source": [
    "\n",
    "nz = 10\n",
    "class  ConvolutionalAutoEncoder(nn.Module):\n",
    "    def __init__(self,ngpu):\n",
    "        super(ConvolutionalAutoEncoder, self).__init__()\n",
    "        self.ngpu = ngpu\n",
    "        \n",
    "        self.encoder = nn.Sequential(\n",
    "            nn.Conv2d(nc, ndf, 4,  2, 1),\n",
    "            nn.MaxPool2d(3,stride=2),\n",
    "            nn.ReLU(True),\n",
    "            nn.Conv2d(ndf, nz, 4, 1 , 0),\n",
    "            nn.MaxPool2d(2, stride=2),\n",
    "            nn.ReLU(True)\n",
    "\n",
    "        )\n",
    "        \n",
    "#         nn.ConvTranspose2d(16, 16, 2, stride=3, padding=0),\n",
    "#             nn.ReLU(True),\n",
    "#             nn.ConvTranspose2d(16, 8, 2, stride=2, padding=1),\n",
    "#             nn.ReLU(True),\n",
    "#             nn.ConvTranspose2d(8, 1, 2, stride=2, padding=0),\n",
    "#             nn.Tanh(),\n",
    "        self.decoder = nn.Sequential(\n",
    "            \n",
    "            # input is encoder final size ( height, width = 6 in this case), going into a convolution transpose\n",
    "            nn.ConvTranspose2d( nz, ngf * 8, 4, 2, 0, bias=False),\n",
    "            nn.BatchNorm2d(ngf * 8),\n",
    "            #nn.ReLU(True),\n",
    "            # state size. (ngf*8) x 14 x 14\n",
    "            nn.ConvTranspose2d(ngf * 8, ngf * 4, 4, 1, 0, bias=False),\n",
    "            nn.BatchNorm2d(ngf * 4),\n",
    "            nn.ReLU(True),\n",
    "            # state size. (ngf*4) x 17 x 17\n",
    "            nn.ConvTranspose2d(ngf * 4, ngf *2 , 3, 2, 1, bias=False),\n",
    "            nn.BatchNorm2d(ngf * 2),\n",
    "            nn.ReLU(True),\n",
    "            # state size. (ngf*2) x 33 x 33\n",
    "            nn.ConvTranspose2d(ngf * 2,     nc, 4, 2, 2, bias=False),\n",
    "            #nn.BatchNorm2d(nc),\n",
    "            nn.Sigmoid(),\n",
    "            # state size. (ngf) x x 32\n",
    "            #nn.ConvTranspose2d(    ngf,      nc, 4, 2, 1, bias=False),\n",
    "            #nn.ReLU(inplace=True)\n",
    "            #last_layer\n",
    "    \n",
    "        )\n",
    "    def forward(self, x):\n",
    "        #x = x.view(-1,1,64,64)\n",
    "        if x.is_cuda and self.ngpu > 1:\n",
    "            x = nn.parallel.data_parallel(self.encoder, x, range(self.ngpu))\n",
    "            x = nn.parallel.data_parallel(self.decoder, x, range(self.ngpu))\n",
    "        else:\n",
    "            x = self.encoder(x)\n",
    "            x = self.decoder(x)\n",
    "        return x\n",
    "    \n",
    "\n",
    "class  ConvolutionalAutoEncoder2(nn.Module):\n",
    "    def __init__(self,ngpu):\n",
    "        super(ConvolutionalAutoEncoder2, self).__init__()\n",
    "        self.ngpu = ngpu\n",
    "        \n",
    "        self.encoder = nn.Sequential(\n",
    "                #input 64 x 64\n",
    "            nn.Conv2d(1, 32, 4, 2, 1), # 32 x 32\n",
    "            nn.BatchNorm2d(32),\n",
    "            nn.Conv2d(32, 32, 4, 2, 1),  # 16 x 16\n",
    "            nn.BatchNorm2d(32),\n",
    "            #nn.ReLU(True),\n",
    "            nn.Conv2d(32, 64, 4, 2, 1) , # 8 x 8\n",
    "            nn.BatchNorm2d(64),\n",
    "            #nn.ReLU(True),\n",
    "            nn.Conv2d(64, 64, 4, 2, 1),  # 4 x 4\n",
    "            nn.BatchNorm2d(64),\n",
    "            nn.Conv2d(64, 512, 4),\n",
    "            nn.BatchNorm2d(512),\n",
    "            nn.Conv2d(512, nz, 1),\n",
    "            # setup the non-linearity\n",
    "            nn.ReLU(inplace=True)\n",
    "        )\n",
    "                \n",
    "        self.decoder = nn.Sequential(\n",
    "\n",
    "            nn.ConvTranspose2d(nz, 512, 1, 1, 0),  # 1 x 1\n",
    "            nn.BatchNorm2d(512),\n",
    "            nn.ConvTranspose2d(512, 64, 4, 1, 0) , # 4 x 4\n",
    "            nn.BatchNorm2d(64),\n",
    "            nn.ConvTranspose2d(64, 64, 4, 2, 1),  # 8 x 8\n",
    "            nn.BatchNorm2d(64),\n",
    "            nn.ConvTranspose2d(64, 32, 4, 2, 1) , # 16 x 16\n",
    "            nn.BatchNorm2d(32),\n",
    "            nn.ConvTranspose2d(32, 32, 4, 2, 1),  # 32 x 32\n",
    "            nn.BatchNorm2d(32),\n",
    "            nn.ConvTranspose2d(32, 1, 4, 2, 1),\n",
    "            # setup the non-linearity\n",
    "            nn.Sigmoid()\n",
    "        )\n",
    "        \n",
    "    def forward(self, x):\n",
    "        #x = x.view(-1,1,64,64)\n",
    "        if x.is_cuda and self.ngpu > 1:\n",
    "            x = nn.parallel.data_parallel(self.encoder, x, range(self.ngpu))\n",
    "            x = nn.parallel.data_parallel(self.decoder, x, range(self.ngpu))\n",
    "        else:\n",
    "            x = self.encoder(x)\n",
    "            x = self.decoder(x)\n",
    "        return x\n",
    "    \n",
    "    \n",
    "\n",
    "class  ConvolutionalAutoEncoder32(nn.Module):\n",
    "    def __init__(self,ngpu):\n",
    "        super(ConvolutionalAutoEncoder32, self).__init__()\n",
    "        self.ngpu = ngpu\n",
    "        \n",
    "        self.encoder = nn.Sequential(\n",
    "                #input 64 x 64\n",
    "            #nn.Conv2d(1, 32, 4, 2, 1), # 32 x 32\n",
    "            #nn.BatchNorm2d(32),\n",
    "            nn.Conv2d(1, 32, 5, 2, 1),  # 16 x 16\n",
    "            nn.BatchNorm2d(32),\n",
    "            #nn.ReLU(True),\n",
    "            nn.Conv2d(32, 64, 4, 2, 1) , # 8 x 8\n",
    "            nn.BatchNorm2d(64),\n",
    "            #nn.ReLU(True),\n",
    "            nn.Conv2d(64, 256, 4, 1, 1),  # 4 x 4\n",
    "            nn.BatchNorm2d(256),\n",
    "            nn.Conv2d(256, nz, 3,1,1),\n",
    "            #nn.BatchNorm2d(256),\n",
    "           # nn.Conv2d(256, 10, 1),\n",
    "            # setup the non-linearity\n",
    "            nn.ReLU(inplace=True)\n",
    "        )\n",
    "                \n",
    "        self.decoder = nn.Sequential(\n",
    "\n",
    "            nn.ConvTranspose2d(nz, 256, 1, 1, 0),  # 1 x 1\n",
    "            nn.BatchNorm2d(256),\n",
    "            nn.ConvTranspose2d(256, 64, 4, 2, 0) , # 4 x 4\n",
    "            nn.BatchNorm2d(64),\n",
    "            nn.ConvTranspose2d(64, 32, 5, 2, 1),  # 8 x 8\n",
    "            nn.BatchNorm2d(32),\n",
    "            nn.ConvTranspose2d(32, 1, 4, 1, 0) , # 16 x 16\n",
    "            #nn.BatchNorm2d(32),\n",
    "            #nn.ConvTranspose2d(32, 1, 1, 2, 1),  # 32 x 32\n",
    "            #nn.BatchNorm2d(32),\n",
    "            #nn.ConvTranspose2d(32, 1, 4, 2, 1),\n",
    "            # setup the non-linearity\n",
    "            nn.ReLU()\n",
    "        )\n",
    "        \n",
    "    def forward(self, x):\n",
    "        #x = x.view(-1,1,64,64)\n",
    "        if x.is_cuda and self.ngpu > 1:\n",
    "            x = nn.parallel.data_parallel(self.encoder, x, range(self.ngpu))\n",
    "            x = nn.parallel.data_parallel(self.decoder, x, range(self.ngpu))\n",
    "        else:\n",
    "            x = self.encoder(x)\n",
    "            x = self.decoder(x)\n",
    "        return x"
   ]
  },
  {
   "cell_type": "code",
   "execution_count": 29,
   "metadata": {},
   "outputs": [],
   "source": [
    "model = ConvolutionalAutoEncoder32(ngpu).to(device)\n",
    "optimizer = optim.Adam(model.parameters())"
   ]
  },
  {
   "cell_type": "code",
   "execution_count": 30,
   "metadata": {},
   "outputs": [],
   "source": [
    "def train(epoch):\n",
    "    for batch_idx, data in enumerate(train_loader,0):\n",
    "        data = data[0].to(device)\n",
    "        #print(data.shape)\n",
    "        optimizer.zero_grad()\n",
    "        output = model(data)\n",
    "        loss = F.mse_loss(output, data)\n",
    "        loss -= F.binary_cross_entropy_with_logits(output, data)\n",
    "        loss.backward()\n",
    "        optimizer.step()\n",
    "        if batch_idx % 50 == 0:\n",
    "            print('Train Epoch: {} [{}/{} ({:.0f}%)]\\tLoss: {:.6f}'.format(\n",
    "                epoch, batch_idx * len(data), len(train_loader.dataset),\n",
    "                100. * batch_idx / len(train_loader), loss.data[0]))"
   ]
  },
  {
   "cell_type": "code",
   "execution_count": null,
   "metadata": {
    "scrolled": true
   },
   "outputs": [],
   "source": [
    "\n",
    "mydir = os.path.join('/home/chris/Documents/MPhilProjects/ForViewing/plots/Geant4/SingleLayerEGun/ConVAE/', \n",
    "                     datetime.datetime.now().strftime('%Y-%m-%d_%H-%M-%S') + \"/\")\n",
    "print(mydir)\n",
    "try:\n",
    "    os.makedirs(mydir)\n",
    "except OSError as e:\n",
    "    if e.errno != errno.EEXIST:\n",
    "        raise\n",
    "\n",
    "with open(mydir + 'NetworkInfo.txt', 'w') as f:\n",
    "    print >> f, 'model:', model\n",
    "    \n",
    "\n",
    "for epoch in range(1,  num_epochs + 1):\n",
    "    plot_reconstructions(model, save_dir=mydir, n=6, conv=True, epoch = epoch, simple=False)\n",
    "    train(epoch)"
   ]
  },
  {
   "cell_type": "code",
   "execution_count": 27,
   "metadata": {
    "scrolled": true
   },
   "outputs": [
    {
     "name": "stdout",
     "output_type": "stream",
     "text": [
      "(32, 32, 32)\n",
      "(45.774147, 46.276417)\n",
      "(45.70729, 46.273777)\n",
      "(44.876877, 46.275337)\n",
      "(45.79074, 46.2707)\n",
      "(45.3177, 46.267853)\n"
     ]
    },
    {
     "data": {
      "image/png": "[encoded data removed]",
      "text/plain": [
       "<Figure size 900x288 with 11 Axes>"
      ]
     },
     "metadata": {},
     "output_type": "display_data"
    }
   ],
   "source": [
    "plot_reconstructions(model, save_dir=None, conv=True, simple=False, n=5)"
   ]
  },
  {
   "cell_type": "code",
   "execution_count": null,
   "metadata": {},
   "outputs": [],
   "source": [
    "mydir = os.path.join('/home/chris/Documents/MPhilProjects/ForViewing/plots/Geant4/SingleLayerEGun/ConVAE/', \n",
    "                     datetime.datetime.now().strftime('%Y-%m-%d_%H-%M-%S') + \"/\")\n",
    "print(mydir)\n",
    "try:\n",
    "    os.makedirs(mydir)\n",
    "except OSError as e:\n",
    "    if e.errno != errno.EEXIST:\n",
    "        raise"
   ]
  },
  {
   "cell_type": "code",
   "execution_count": null,
   "metadata": {},
   "outputs": [],
   "source": [
    "data= next(iter(test_loader))\n",
    "#print(data[0].shape)\n",
    "#print norm_scale\n",
    "\n",
    "#data = Variable(data, volatile=True)\n",
    "true_imgs = data[0]\n",
    "encoded_imgs = model.encoder(data[0].to(device))\n",
    "#if simple:\n",
    "#    encoded_imgs = F.relu(encoded_imgs)\n",
    "decoded_imgs = model.decoder(encoded_imgs)\n",
    "#print(decoded_imgs)\n",
    "true_imgs = to_img(true_imgs, norm_scale = norm_scale,  scale = scale)\n",
    "decoded_imgs = to_img(decoded_imgs, norm_scale = norm_scale, scale = scale)"
   ]
  },
  {
   "cell_type": "code",
   "execution_count": null,
   "metadata": {},
   "outputs": [],
   "source": [
    "plt.figure(figsize= (10,10))\n",
    "im = plt.imshow(true_imgs[2] - decoded_imgs[2])\n",
    "plt.colorbar(im)"
   ]
  },
  {
   "cell_type": "code",
   "execution_count": null,
   "metadata": {},
   "outputs": [],
   "source": [
    "combined_fake_image = 0\n",
    "for i in range(len(decoded_imgs)):\n",
    "    combined_fake_image += decoded_imgs[i]\n",
    "combined_fake_image = combined_fake_image / len(true_imgs)\n",
    "\n",
    "combined_real_image = 0\n",
    "for i in range(len(true_imgs)):\n",
    "    combined_real_image += true_imgs[i]\n",
    "combined_real_image = combined_real_image / len(true_imgs) - 28"
   ]
  },
  {
   "cell_type": "code",
   "execution_count": null,
   "metadata": {},
   "outputs": [],
   "source": [
    "plt.figure(figsize=(10,10))\n",
    "im = plt.imshow(combined_real_image, cmap ='PuOr')\n",
    "plt.colorbar(im)"
   ]
  },
  {
   "cell_type": "code",
   "execution_count": 363,
   "metadata": {
    "scrolled": true
   },
   "outputs": [
    {
     "name": "stdout",
     "output_type": "stream",
     "text": [
      "(32, 32, 32)\n"
     ]
    },
    {
     "data": {
      "text/plain": [
       "<matplotlib.colorbar.Colorbar at 0x7fe29dddbd50>"
      ]
     },
     "execution_count": 363,
     "metadata": {},
     "output_type": "execute_result"
    },
    {
     "data": {
      "image/png": "[encoded data removed]",
      "text/plain": [
       "<Figure size 720x288 with 2 Axes>"
      ]
     },
     "metadata": {},
     "output_type": "display_data"
    }
   ],
   "source": [
    "# nz = 10\n",
    "# data = torch.FloatTensor(np.random.uniform(low=0,high=20,size= (batchSize,nz,6,6))).to(device)\n",
    "# #data = torch.randn(batchSize,nz,6,6).to(device)\n",
    "# #print(data)\n",
    "                 \n",
    "# decoded_imgs = unnormalize(model.decoder(data).cpu().data.numpy().reshape([-1,32,32]),scale=scale,norm_scale=norm_scale)\n",
    "# #print(decoded_imgs)\n",
    "# #true_imgs = to_img(true_imgs, norm_scale = norm_scale,  scale = scale)\n",
    "# #decoded_imgs = to_img(decoded_imgs, norm_scale = norm_scale, scale = scale)\n",
    "# print(decoded_imgs.shape)\n",
    "\n",
    "# n=4\n",
    "# rowsize = n * 2.5\n",
    "# columnsize = 4\n",
    "\n",
    "# fig, ax = plt.subplots(figsize=(rowsize, columnsize))\n",
    "# cmap = sns.cubehelix_palette(dark = 0.4, light=0.98, gamma = 2.5, hue = 1, start =0, as_cmap=True)\n",
    "# im = ax.imshow(decoded_imgs[0], cmap=cmap, vmin=0)\n",
    "# plt.colorbar(im)\n"
   ]
  },
  {
   "cell_type": "code",
   "execution_count": null,
   "metadata": {},
   "outputs": [],
   "source": []
  }
 ],
 "metadata": {
  "kernelspec": {
   "display_name": "Python (New Pytorch)",
   "language": "python",
   "name": "pytorch04"
  },
  "language_info": {
   "codemirror_mode": {
    "name": "ipython",
    "version": 2
   },
   "file_extension": ".py",
   "mimetype": "text/x-python",
   "name": "python",
   "nbconvert_exporter": "python",
   "pygments_lexer": "ipython2",
   "version": "2.7.14"
  }
 },
 "nbformat": 4,
 "nbformat_minor": 2
}
